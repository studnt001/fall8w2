{
 "cells": [
  {
   "cell_type": "markdown",
   "metadata": {},
   "source": [
    "\n",
    "# Week 3  Lab - Exploratory Data Analysis (EDA)\n",
    "\n",
    "<img align=\"right\" style=\"padding-right:10px;\" src=\"figures_wk3/curious.png\" width=300><br>\n",
    "This week's assignment will focus on EDA techniques and practices for a given dataset.\n",
    "\n",
    "## Dataset for Week3: \n",
    "**Dataset Name::** <br>\n",
    "Use any dataset that is of interest to you for this assignment.\n",
    "\n",
    "   * https://archive.ics.uci.edu/ml/datasets.php\n",
    "   * https://www.data.gov/\n",
    "   * https://www.kaggle.com/datasets\n"
   ]
  },
  {
   "cell_type": "markdown",
   "metadata": {},
   "source": [
    "# Assignment Requirements\n",
    "\n",
    "Complete an Exploratory data analysis for your chosen dataset. Your analysis should include the following. For each of the following sections, please provide a narritive of your approach, reasoning for your treatment of the data and insights or conclusions that you have reached.\n",
    "\n",
    "Define a few questions that you wish to discover about your dataset to guide your EDA effort.\n",
    "   1. Describe the data within the dataset.\n",
    "       - Data types: Categorical vs Continuous variables\n",
    "       - Statistical summary, etc.\n",
    "   2. Data Cleaning\n",
    "       - Identify and handle missing values\n",
    "       - Identify and handle outliers\n",
    "   3. Feature Selection\n",
    "       - Graphical visualization of features \n",
    "       - Examine the relationships within the dataset - using 2 different methods\n",
    "       - Reduction of the dimensionality of the dataset\n",
    "   4. Insights and Findings\n",
    "       - Describe an insights and/or findings from within the datset.\n",
    "   5. Bonus: Feature Engineering\n",
    "       - Create a new feature based for findings.\n",
    "       \n",
    "**Important:** Make sure your provide complete and thorough explanations for all of your analysis steps. You need to defend your thought processes and reasoning."
   ]
  },
  {
   "cell_type": "markdown",
   "metadata": {},
   "source": [
    "# Deliverables:\n",
    "Upload your Jupyter Notebook to the corresponding location in WorldClass. Also, you will need to provide a copy of your dataset.\n",
    "\n",
    "**Note::** Make sure you have clearly indicated each assignment requirement within your notebook."
   ]
  },
  {
   "cell_type": "code",
   "execution_count": null,
   "metadata": {},
   "outputs": [],
   "source": []
  }
 ],
 "metadata": {
  "kernelspec": {
   "display_name": "Python 3 (ipykernel)",
   "language": "python",
   "name": "python3"
  },
  "language_info": {
   "codemirror_mode": {
    "name": "ipython",
    "version": 3
   },
   "file_extension": ".py",
   "mimetype": "text/x-python",
   "name": "python",
   "nbconvert_exporter": "python",
   "pygments_lexer": "ipython3",
   "version": "3.11.4"
  }
 },
 "nbformat": 4,
 "nbformat_minor": 4
}
