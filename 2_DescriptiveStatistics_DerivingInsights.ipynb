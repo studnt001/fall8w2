{
 "cells": [
  {
   "cell_type": "markdown",
   "metadata": {},
   "source": [
    "# Week 2 - Deriving Insights through Descriptive Statistics"
   ]
  },
  {
   "cell_type": "markdown",
   "metadata": {},
   "source": [
    "**Book Recommendation**: Both of these books are great references that provide working examples in python.\n",
    "\n",
    "<img align=\"left\" style=\"padding-right:50px;\" src=\"figures_wk2/pandas_everyone.png\" width=100><br>\n",
    ">**Pandas for Everyone - Python Data Analysis** by Daniel Y. Chen<br>\n",
    ">**Publisher**: Addison-Wesley - Data &Analytics Series; 2nd edition (2023)<br>\n",
    ">**ISBN-13**: 978-0137891153<br>"
   ]
  },
  {
   "cell_type": "markdown",
   "metadata": {},
   "source": [
    "<img align=\"left\" style=\"padding-right:50px;\" src=\"figures_wk2/eda_with_python.png\" width=100><br>\n",
    ">**Hands-On Exploratory Data Analysis with Python** by Suresh Kumar Mukhiya and Usman Ahmed <br>\n",
    ">**Publisher**: Packt>; 1st edition (2020)<br>\n",
    ">**ISBN-13**: 978-1789537253<br>"
   ]
  },
  {
   "cell_type": "markdown",
   "metadata": {
    "tags": []
   },
   "source": [
    "## Lecture Outline"
   ]
  },
  {
   "cell_type": "markdown",
   "metadata": {},
   "source": [
    "Descriptive Statistics - Drawing Insights from Descriptive Statisitcs\n",
    "- What is Descriptive Statistics?\n",
    "- Understanding You Data\n",
    "    * Categorical vs Numeric Data\n",
    "    * Why is knowing the data type important\n",
    "- Designing Your Analytical Approach\n",
    "    * Understand the Business and Defining the Problem Statement\n",
    "    * Development of Analytical Questions\n",
    "    * Univariate vs Multivariate Analysis\n",
    "- Demo: Analyzing a dataset through Desciptive Statistics\n",
    "    * Understanding the Business and Defining a Problem Statement\n",
    "    * Loading the data\n",
    "    * Developing our Analytical Approach\n",
    "    * Anaylsis: Customer Loyality\n",
    "    * Anaylsis: Foot Traffic\n",
    "    * Insight Recap: What has our analysis revealed?\n",
    "    * Summarizing the Analysis\n",
    "- Additional Note About Univariant Analysis"
   ]
  },
  {
   "cell_type": "markdown",
   "metadata": {},
   "source": [
    "## What is Descriptive Statistics?"
   ]
  },
  {
   "cell_type": "markdown",
   "metadata": {},
   "source": [
    "Descriptive statistics serves as the initial step in understanding and summarizing data. It involves organizing, visualizing, and summarizing raw data to create a coherent picture. The primary goal of descriptive statistics is to provide a clear and concise overview of the data’s main features. This helps us identify patterns, trends, and characteristics within the data set without making broader inferences.\n",
    "\n",
    "Using descriptive statistics techniques, data can become clearer, patterns might emerge, and some conclusions might be evident. However, descriptive statistics do not allow us to reach any conclusion beyond the data being analyzed. For this reason, descriptive statistics are often not useful for decision-making processes. However, descriptive statistics still hold value in explaining high-level summaries of a set of information such as the mean, median, mode, variance, range, frequencies and proportions."
   ]
  },
  {
   "cell_type": "markdown",
   "metadata": {},
   "source": [
    "## Understanding Your Data"
   ]
  },
  {
   "cell_type": "markdown",
   "metadata": {},
   "source": [
    "Before diving into any analytical effort, it is crucial to identify the data type under analysis. Different disciplines store different kinds of data for different purposes. For example, medical researchers store patients' data, universities store students' and teachers' data, and real estate industries store building and property datasets. \n",
    "\n",
    "A dataset contains many observations about a particular object. For instance, a dataset about patients in a hospital can contain many observations. A patient can be described by a patient identifier (ID), name, address, weight, date of birth, address, email, and gender. Each of these features that describes a patient is a variable. Each observation can have a specific value for each of these variables. For example, a patient can have the following:\n",
    "\n",
    ">PATIENT_ID = 1001 <br>\n",
    "Name = Yoshmi Mukhiya <br>\n",
    "Address = Mannsverk 61, 5094, Bergen, Norway <br>\n",
    "Date of birth = 10th July 2018 <br>\n",
    "Email = yoshmimukhiya@gmail.com <br>\n",
    "Weight = 10  <br>\n",
    "Gender = Female <br>\n",
    "\n",
    "These datasets are stored in hospitals and are presented for analysis. Most of this data is stored in some sort of database management system in tables/schema. \n"
   ]
  },
  {
   "cell_type": "markdown",
   "metadata": {},
   "source": [
    "### Catergorical vs Numeric Data"
   ]
  },
  {
   "cell_type": "markdown",
   "metadata": {},
   "source": [
    "<img align=\"right\" style=\"padding-right:50px;\" src=\"figures_wk2/kinds_data.png\" width=550><br>\n",
    "Most data broadly falls into one of two groups: categorical and numerical data.\n",
    "\n",
    "* **Categorical Data:** Qualitative data is also known as categorical data, and it measures data represented by a name or symbol. Examples include the names of each department in your organization, office locations, and many other categorical data names.\n",
    "    - **Nominal Data:** Nominal data are categories or named data with no inherent hierarchy or structure. They explain the category without any order. If you had an e-commerce shopping store, this could be the different clothing categories you offer (i.e., shoes, tops, pants, etc.). You could categorize and analyze the different nominal data to understand your business offerings.\n",
    "    Ordinal Data:** Ordinal data demonstrates a specific order, hierarchy, or understood structure through the categorical names. This could be demonstrated through job titles, such as assistant, manager, or director—these are all names that denote a specific position in the company that is understood by its categorical name.\n",
    "\n",
    "* **Numerical Data:**  Also known as quantitative data, its values will always be in a number form. An example of numerical data would be the number of sales made in a particular business quarter. Put simply, if the answer is a number, the data is quantitative (numerical).\n",
    "    - **Discrete Data:** Discrete data, also called discrete values, is data that only takes certain values. Commonly in the form of whole numbers or integers, this data can be counted and has a finite number of values. These values must be able to fall within certain classifications and are unable to be broken down into smaller parts. \n",
    "    - **Continous Data:** Continuous data refers to data that can be measured. This data has values that are not fixed and have an infinite number of possible values. These measurements can also be broken down into smaller individual parts. Some examples of continuous data would include the height or weight of a person. Continuous data can be further broken down into.\n",
    "        "
   ]
  },
  {
   "cell_type": "markdown",
   "metadata": {},
   "source": [
    "### Why is knowing the data type important?"
   ]
  },
  {
   "cell_type": "markdown",
   "metadata": {},
   "source": [
    "Different data types require different analytical techniques. Choosing the appropriate analysis method depends on the data types involved."
   ]
  },
  {
   "cell_type": "markdown",
   "metadata": {},
   "source": [
    "<img align=\"left\" style=\"padding-right:50px;\" src=\"figures_wk2/nominal_ordinal.png\" width=600><br>\n"
   ]
  },
  {
   "cell_type": "markdown",
   "metadata": {},
   "source": [
    "<img align=\"left\" style=\"padding-right:50px;\" src=\"figures_wk2/discrete_continuous.png\" width=600><br>"
   ]
  },
  {
   "cell_type": "markdown",
   "metadata": {},
   "source": [
    "## Designing Your Analytical Approach"
   ]
  },
  {
   "cell_type": "markdown",
   "metadata": {},
   "source": [
    "<img align=\"right\" style=\"padding-left:50px;\" src=\"figures_wk2/arrows.png\" width=200><br>\n",
    "Show of hands, who believes that the most crucial aspect of an analytics effort is the data. If you raised your hand, I have some sad news for you. Along with your data, you also need a plan or approach for your analytics.\n",
    "> **\"If you aim at nothing, you will hit it every time\"** ~ Zig Ziglar.\n",
    "\n",
    "Factors such as the type of analysis, the goal, and the specific questions you want to answer are all important."
   ]
  },
  {
   "cell_type": "markdown",
   "metadata": {},
   "source": [
    "### Understand the Business and Defining the Problem Statement"
   ]
  },
  {
   "cell_type": "markdown",
   "metadata": {},
   "source": [
    "<img align=\"left\" style=\"padding-right:50px;\" src=\"figures_wk2/crisp_dm.png\" width=350><br>\n",
    "Any good project starts with a deep understanding of the customer’s needs. [CRISP-DM](https://www.datascience-pm.com/crisp-dm-2/) is a methodology readily used in the data science community to guide a researcher's analytical efforts. \n",
    "\n",
    "During the **Business Understanding** phase the focus centers around understanding the objectives and requirements of the project. One of the steps within this phrase is defining the analytical objectives, also known as the problem statement, for the analysis.\n",
    "\n",
    "**Problem Statement:** Before trying to extract useful insight from the data, it is essential to define the business problem to be solved. The problem definition works as the driving force for a data analysis plan execution. "
   ]
  },
  {
   "cell_type": "markdown",
   "metadata": {},
   "source": [
    "### Development of Analytical Questions"
   ]
  },
  {
   "cell_type": "markdown",
   "metadata": {},
   "source": [
    "Once the problem statement has been established, one or more analytical questions can be developed to further guide the analysis. It is important to ensure that each analytical question supports the business problem defined in the problem statement.\n",
    "\n",
    "<img align=\"center\" style=\"padding-right:50px;\" src=\"figures_wk2/analytical_questions.png\" width=600><br>"
   ]
  },
  {
   "cell_type": "markdown",
   "metadata": {},
   "source": [
    "### Univariate vs Multivariate Analysis"
   ]
  },
  {
   "cell_type": "markdown",
   "metadata": {},
   "source": [
    "<img align=\"right\" style=\"padding-left:50px;\" src=\"figures_wk2/question2feature.png\" width=350><br>\n",
    "After establishing the analytical questions associated with your analysis, you now need to identify the variables within your dataset.\n",
    "\n",
    "**Univariate analysis** utilizes only one variable from the dataset in deriving insights. Univariant analysis is used to identify characteristics of a single trait and is not used to analyze any relationships or causations.\n",
    "\n",
    "For example, imagine a room full of high school students. Say you wanted to gather the average age of the individuals in the room. This univariate data is only dependent on one factor: each person's age. By gathering this one piece of information from each person and dividing by the total number of people, you can determine the average age.\n",
    "\n",
    "**Multivariant analysis** utilized more than one dataset variable during the analysis. Multivariant analysis examines the individual variables and their relationships to each other.\n",
    "\n",
    "As an example, let's say each high school student in the example above takes a college assessment test, and we want to see whether older students are testing better than younger students. In addition to gathering the age of the students, we need to gather each student's test score. Then, using data analytics, we mathematically or graphically depict whether there is a relationship between student age and test scores.\n",
    "\n",
    "<i><b> Did you notice</b></i>, in the visual for this section, that not all of data variables supported the anaytical questions being analyzed? Also, the last analytical question wasn't supported by any of the dataset variables. <u>This is why designing your analytical approach is so important.</u>"
   ]
  },
  {
   "cell_type": "markdown",
   "metadata": {},
   "source": [
    "## Demo: Analyzing a Dataset Through Descriptive Statistics"
   ]
  },
  {
   "cell_type": "markdown",
   "metadata": {},
   "source": [
    "For this demonstration, we will be using a retail transactions dataset for a bakery. We will start by loading and looking at a sample of the data. \n",
    "\n",
    "In addition to examining the dataset within this notebook, I also looked at this dataset in a text editior outside of this notebook to inspect the entire dataset. \n",
    "\n",
    "**Dataset Variables:**<br>\n",
    "Based on that inspection, I was about to determine the dataset features are:\n",
    "- order_id: unique identifier of the dataset\n",
    "- customer_id: unique identifier for each customer\n",
    "- order_date: date of the sales transactions\n",
    "- quantity: the number of items in the sales transaction\n",
    "- product_id: the item sold in the sales transaction\n",
    "- unit_price: the price of the individual item being sold"
   ]
  },
  {
   "cell_type": "markdown",
   "metadata": {},
   "source": [
    "### Loading the Data"
   ]
  },
  {
   "cell_type": "code",
   "execution_count": 1,
   "metadata": {
    "tags": []
   },
   "outputs": [],
   "source": [
    "import pandas as pd\n",
    "import seaborn as sns"
   ]
  },
  {
   "cell_type": "code",
   "execution_count": 2,
   "metadata": {
    "tags": []
   },
   "outputs": [],
   "source": [
    "bakery = pd.read_csv('data_wk2/transactions.csv')"
   ]
  },
  {
   "cell_type": "code",
   "execution_count": 3,
   "metadata": {
    "tags": []
   },
   "outputs": [
    {
     "data": {
      "text/html": [
       "<div>\n",
       "<style scoped>\n",
       "    .dataframe tbody tr th:only-of-type {\n",
       "        vertical-align: middle;\n",
       "    }\n",
       "\n",
       "    .dataframe tbody tr th {\n",
       "        vertical-align: top;\n",
       "    }\n",
       "\n",
       "    .dataframe thead th {\n",
       "        text-align: right;\n",
       "    }\n",
       "</style>\n",
       "<table border=\"1\" class=\"dataframe\">\n",
       "  <thead>\n",
       "    <tr style=\"text-align: right;\">\n",
       "      <th></th>\n",
       "      <th>order_id</th>\n",
       "      <th>customer_id</th>\n",
       "      <th>order_date</th>\n",
       "      <th>quantity</th>\n",
       "      <th>product_id</th>\n",
       "      <th>unit_price</th>\n",
       "    </tr>\n",
       "  </thead>\n",
       "  <tbody>\n",
       "    <tr>\n",
       "      <th>7142</th>\n",
       "      <td>10077</td>\n",
       "      <td>23375</td>\n",
       "      <td>6/27/2021</td>\n",
       "      <td>4</td>\n",
       "      <td>Banana Walnut Muffin</td>\n",
       "      <td>2.50</td>\n",
       "    </tr>\n",
       "    <tr>\n",
       "      <th>45930</th>\n",
       "      <td>13265</td>\n",
       "      <td>2613</td>\n",
       "      <td>8/23/2018</td>\n",
       "      <td>1</td>\n",
       "      <td>Lemon Cake - 8 inch</td>\n",
       "      <td>12.00</td>\n",
       "    </tr>\n",
       "    <tr>\n",
       "      <th>38761</th>\n",
       "      <td>2356</td>\n",
       "      <td>14462</td>\n",
       "      <td>7/7/2019</td>\n",
       "      <td>1</td>\n",
       "      <td>Black White Cookies</td>\n",
       "      <td>1.50</td>\n",
       "    </tr>\n",
       "    <tr>\n",
       "      <th>44473</th>\n",
       "      <td>8432</td>\n",
       "      <td>26565</td>\n",
       "      <td>4/4/2019</td>\n",
       "      <td>1</td>\n",
       "      <td>Danish Kringle - 12 oz.</td>\n",
       "      <td>12.00</td>\n",
       "    </tr>\n",
       "    <tr>\n",
       "      <th>15084</th>\n",
       "      <td>6814</td>\n",
       "      <td>26791</td>\n",
       "      <td>3/3/2020</td>\n",
       "      <td>3</td>\n",
       "      <td>Challah Bread - 16 oz.</td>\n",
       "      <td>6.99</td>\n",
       "    </tr>\n",
       "    <tr>\n",
       "      <th>75106</th>\n",
       "      <td>11170</td>\n",
       "      <td>2757</td>\n",
       "      <td>1/10/2020</td>\n",
       "      <td>2</td>\n",
       "      <td>Blueberry Coffeecake</td>\n",
       "      <td>7.00</td>\n",
       "    </tr>\n",
       "    <tr>\n",
       "      <th>82365</th>\n",
       "      <td>12572</td>\n",
       "      <td>22225</td>\n",
       "      <td>10/19/2019</td>\n",
       "      <td>3</td>\n",
       "      <td>Chocolate Chip Muffin</td>\n",
       "      <td>2.50</td>\n",
       "    </tr>\n",
       "    <tr>\n",
       "      <th>92053</th>\n",
       "      <td>2562</td>\n",
       "      <td>34748</td>\n",
       "      <td>1/6/2018</td>\n",
       "      <td>1</td>\n",
       "      <td>Black White Cookies</td>\n",
       "      <td>1.50</td>\n",
       "    </tr>\n",
       "    <tr>\n",
       "      <th>80004</th>\n",
       "      <td>12853</td>\n",
       "      <td>29200</td>\n",
       "      <td>7/22/2019</td>\n",
       "      <td>2</td>\n",
       "      <td>Apple Walnut Muffin</td>\n",
       "      <td>2.50</td>\n",
       "    </tr>\n",
       "    <tr>\n",
       "      <th>23787</th>\n",
       "      <td>13130</td>\n",
       "      <td>1732</td>\n",
       "      <td>7/2/2018</td>\n",
       "      <td>4</td>\n",
       "      <td>Black White Cookies</td>\n",
       "      <td>1.50</td>\n",
       "    </tr>\n",
       "  </tbody>\n",
       "</table>\n",
       "</div>"
      ],
      "text/plain": [
       "       order_id  customer_id  order_date  quantity               product_id  \\\n",
       "7142      10077        23375   6/27/2021         4     Banana Walnut Muffin   \n",
       "45930     13265         2613   8/23/2018         1      Lemon Cake - 8 inch   \n",
       "38761      2356        14462    7/7/2019         1      Black White Cookies   \n",
       "44473      8432        26565    4/4/2019         1  Danish Kringle - 12 oz.   \n",
       "15084      6814        26791    3/3/2020         3   Challah Bread - 16 oz.   \n",
       "75106     11170         2757   1/10/2020         2     Blueberry Coffeecake   \n",
       "82365     12572        22225  10/19/2019         3    Chocolate Chip Muffin   \n",
       "92053      2562        34748    1/6/2018         1      Black White Cookies   \n",
       "80004     12853        29200   7/22/2019         2      Apple Walnut Muffin   \n",
       "23787     13130         1732    7/2/2018         4      Black White Cookies   \n",
       "\n",
       "       unit_price  \n",
       "7142         2.50  \n",
       "45930       12.00  \n",
       "38761        1.50  \n",
       "44473       12.00  \n",
       "15084        6.99  \n",
       "75106        7.00  \n",
       "82365        2.50  \n",
       "92053        1.50  \n",
       "80004        2.50  \n",
       "23787        1.50  "
      ]
     },
     "execution_count": 3,
     "metadata": {},
     "output_type": "execute_result"
    }
   ],
   "source": [
    "bakery.sample(10)"
   ]
  },
  {
   "cell_type": "code",
   "execution_count": 4,
   "metadata": {
    "tags": []
   },
   "outputs": [
    {
     "name": "stdout",
     "output_type": "stream",
     "text": [
      "<class 'pandas.core.frame.DataFrame'>\n",
      "RangeIndex: 100000 entries, 0 to 99999\n",
      "Data columns (total 6 columns):\n",
      " #   Column       Non-Null Count   Dtype  \n",
      "---  ------       --------------   -----  \n",
      " 0   order_id     100000 non-null  int64  \n",
      " 1   customer_id  100000 non-null  int64  \n",
      " 2   order_date   100000 non-null  object \n",
      " 3   quantity     100000 non-null  int64  \n",
      " 4   product_id   100000 non-null  object \n",
      " 5   unit_price   100000 non-null  float64\n",
      "dtypes: float64(1), int64(3), object(2)\n",
      "memory usage: 4.6+ MB\n"
     ]
    }
   ],
   "source": [
    "bakery.info()"
   ]
  },
  {
   "cell_type": "markdown",
   "metadata": {},
   "source": [
    "### Developing our Analytical Approach"
   ]
  },
  {
   "cell_type": "markdown",
   "metadata": {},
   "source": [
    "Since we are working with a generic dataset, we will develop a fictious business scenario and business problem that is supported by our dataset. \n",
    "\n",
    "**Business Understanding and Problem Statement:** <br>\n",
    "HoneyBee Sweet Shop opened for business in January 2018. HoneyBee Sweet Shop specializes in offering bakery items sweetened with locally sourced honey rather than sugar. Recently, HoneyBee Sweet Shop reached its 100,000th sale. As a niche bakery, HoneyBee Sweet Shop wants to understand how well their 100% honey-sweetened products are being received across their targeted market. In particular, HoneyBee Sweet Shop would like to understand their customer’s loyalty to their brand and foot traffic over those first 100,000 transactions.\n",
    "\n",
    "**Analytical Questions:** <br>\n",
    "- Customer Loyalty: How often does each HoneyBee Sweet Shop customer visit the bakery?\n",
    "- Foot Traffic: What is the range of sales per business day?\n",
    "\n",
    "**Identification of dataset features for analysis:**\n",
    "- Customer Loyalty: customer_id\n",
    "- Foot Traffics: order_date\n"
   ]
  },
  {
   "cell_type": "markdown",
   "metadata": {},
   "source": [
    "### Anaylsis: Customer Loyality"
   ]
  },
  {
   "cell_type": "markdown",
   "metadata": {},
   "source": [
    "Based on our analytical approach defined above, to gain insights about the loyalty amongst HoneyBee Sweet Shop’s customers, we can conduct a univariant analysis of the customer_id dataset feature and descriptive statistics.\n",
    "\n",
    "We will start by grouping the customer_id by the values contained in this variable. Since a unique customer_id was assigned to each customer, this will provide the number of times each customer has visited HoneyBee Sweet Shop."
   ]
  },
  {
   "cell_type": "code",
   "execution_count": 5,
   "metadata": {
    "tags": []
   },
   "outputs": [
    {
     "data": {
      "text/plain": [
       "2306     12\n",
       "1789     12\n",
       "5021     11\n",
       "30730    11\n",
       "27506    11\n",
       "         ..\n",
       "23052     1\n",
       "26685     1\n",
       "24234     1\n",
       "20546     1\n",
       "29681     1\n",
       "Name: customer_id, Length: 33039, dtype: int64"
      ]
     },
     "execution_count": 5,
     "metadata": {},
     "output_type": "execute_result"
    }
   ],
   "source": [
    "bakery.customer_id.value_counts()"
   ]
  },
  {
   "cell_type": "code",
   "execution_count": 6,
   "metadata": {
    "tags": []
   },
   "outputs": [
    {
     "data": {
      "text/plain": [
       "customer_id\n",
       "35000     1\n",
       "16840     1\n",
       "6288      1\n",
       "6286      1\n",
       "32509     1\n",
       "         ..\n",
       "30730    11\n",
       "27506    11\n",
       "5021     11\n",
       "2306     12\n",
       "1789     12\n",
       "Name: order_id, Length: 33039, dtype: int64"
      ]
     },
     "execution_count": 6,
     "metadata": {},
     "output_type": "execute_result"
    }
   ],
   "source": [
    "bakery.groupby('customer_id').order_id.size().sort_values()"
   ]
  },
  {
   "cell_type": "markdown",
   "metadata": {},
   "source": [
    "Okay, so it looks like the number of times a customer has visited HoneyBee Sweet Shop ranges between 1 and 12."
   ]
  },
  {
   "cell_type": "code",
   "execution_count": 7,
   "metadata": {
    "tags": []
   },
   "outputs": [
    {
     "data": {
      "text/plain": [
       "customer_id\n",
       "1        4\n",
       "2        3\n",
       "3        2\n",
       "4        7\n",
       "5        3\n",
       "        ..\n",
       "34996    3\n",
       "34997    8\n",
       "34998    2\n",
       "34999    3\n",
       "35000    1\n",
       "Name: order_id, Length: 33039, dtype: int64"
      ]
     },
     "execution_count": 7,
     "metadata": {},
     "output_type": "execute_result"
    }
   ],
   "source": [
    "bakery.groupby('customer_id').order_id.size()"
   ]
  },
  {
   "cell_type": "markdown",
   "metadata": {},
   "source": [
    "Based on this information, we can see that HoneyBee Sweet Shop has interacted with 33,039 different customers during their first 100,000 sales transactions. The number of visits for each customer ranges between one and twelve times.\n",
    "\n",
    "Let's create a histogram for HoneyBee Sweet Shop's customer's visits."
   ]
  },
  {
   "cell_type": "code",
   "execution_count": 9,
   "metadata": {
    "tags": []
   },
   "outputs": [
    {
     "data": {
      "text/plain": [
       "<Axes: >"
      ]
     },
     "execution_count": 9,
     "metadata": {},
     "output_type": "execute_result"
    },
    {
     "data": {
      "image/png": "[encoded data removed]",
      "text/plain": [
       "<Figure size 640x480 with 1 Axes>"
      ]
     },
     "metadata": {},
     "output_type": "display_data"
    }
   ],
   "source": [
    "freq_customers = bakery.groupby('customer_id').order_id.size()\n",
    "freq_customers.hist(bins=13,grid=False, edgecolor='black')"
   ]
  },
  {
   "cell_type": "markdown",
   "metadata": {},
   "source": [
    "That interesting, it appears that visitng over 6 times is an outlier. Let's confirm this assumption with a boxplot."
   ]
  },
  {
   "cell_type": "code",
   "execution_count": 26,
   "metadata": {
    "tags": []
   },
   "outputs": [
    {
     "data": {
      "text/plain": [
       "<Axes: >"
      ]
     },
     "execution_count": 26,
     "metadata": {},
     "output_type": "execute_result"
    },
    {
     "data": {
      "image/png": "[encoded data removed]",
      "text/plain": [
       "<Figure size 640x480 with 1 Axes>"
      ]
     },
     "metadata": {},
     "output_type": "display_data"
    }
   ],
   "source": [
    "sns.boxplot(x=freq_customers.values)"
   ]
  },
  {
   "cell_type": "markdown",
   "metadata": {},
   "source": [
    "The boxplot suggests that for a customer to visit over 7 times would be unlikely and 25% of those customers only visiting once. Plus, half of their customers visited HoneyBee Sweet Shop between two and four times. Additionally, 50% of the HoneyBee Sweet Shop customers visited between 2 and 4 times with the median being 3 visits.\n"
   ]
  },
  {
   "cell_type": "markdown",
   "metadata": {},
   "source": [
    "### Anaylsis: Foot Traffic"
   ]
  },
  {
   "cell_type": "markdown",
   "metadata": {},
   "source": [
    "Similar to our analysis of customer loayalty, for the investigation into the foot traffic at HoneyBee Sweet Shop we can conduct a univariant analysis of the feature order_date. The data within this feature will be grouped to determine the total sales per business day at HoneyBee Sweet Shop."
   ]
  },
  {
   "cell_type": "code",
   "execution_count": 27,
   "metadata": {
    "tags": []
   },
   "outputs": [
    {
     "data": {
      "text/plain": [
       "'1/1/2018'"
      ]
     },
     "execution_count": 27,
     "metadata": {},
     "output_type": "execute_result"
    }
   ],
   "source": [
    "bakery.order_date.min()"
   ]
  },
  {
   "cell_type": "code",
   "execution_count": 28,
   "metadata": {
    "tags": []
   },
   "outputs": [
    {
     "data": {
      "text/plain": [
       "'9/9/2020'"
      ]
     },
     "execution_count": 28,
     "metadata": {},
     "output_type": "execute_result"
    }
   ],
   "source": [
    "bakery.order_date.max()"
   ]
  },
  {
   "cell_type": "markdown",
   "metadata": {},
   "source": [
    "So, roughly 33 months. What has the average number of sales per day been like?"
   ]
  },
  {
   "cell_type": "code",
   "execution_count": 29,
   "metadata": {
    "tags": []
   },
   "outputs": [
    {
     "data": {
      "text/plain": [
       "count    1297.000000\n",
       "mean       77.101002\n",
       "std         8.590826\n",
       "min        51.000000\n",
       "25%        71.000000\n",
       "50%        77.000000\n",
       "75%        83.000000\n",
       "max       107.000000\n",
       "Name: order_date, dtype: float64"
      ]
     },
     "execution_count": 29,
     "metadata": {},
     "output_type": "execute_result"
    }
   ],
   "source": [
    "sales= bakery.order_date.value_counts()\n",
    "sales.describe()"
   ]
  },
  {
   "cell_type": "markdown",
   "metadata": {},
   "source": [
    "Good News! HoneyBee Sweet Shop has had sales everyday, with the daily sales totals ranging between 51 and 107."
   ]
  },
  {
   "cell_type": "code",
   "execution_count": 30,
   "metadata": {
    "tags": []
   },
   "outputs": [
    {
     "data": {
      "text/plain": [
       "<Axes: >"
      ]
     },
     "execution_count": 30,
     "metadata": {},
     "output_type": "execute_result"
    },
    {
     "data": {
      "image/png": "[encoded data removed]",
      "text/plain": [
       "<Figure size 640x480 with 1 Axes>"
      ]
     },
     "metadata": {},
     "output_type": "display_data"
    }
   ],
   "source": [
    "sales.hist(bins = 12, grid=False, edgecolor='black')"
   ]
  },
  {
   "cell_type": "markdown",
   "metadata": {},
   "source": [
    "The daily sales histogram, depicts a slightly bimodal distribution with the two peaks within the IQR. This behavior typically means that an average day at HoneyBee Sweet Shop is more likely to fall closer to 71 or 83 rather than the median of 77 sales transactions. Additionally, the sharply declining tails indicate the possible presence of outliers within the daily sales totals."
   ]
  },
  {
   "cell_type": "code",
   "execution_count": 31,
   "metadata": {
    "tags": []
   },
   "outputs": [
    {
     "data": {
      "text/plain": [
       "<Axes: >"
      ]
     },
     "execution_count": 31,
     "metadata": {},
     "output_type": "execute_result"
    },
    {
     "data": {
      "image/png": "[encoded data removed]",
      "text/plain": [
       "<Figure size 640x480 with 1 Axes>"
      ]
     },
     "metadata": {},
     "output_type": "display_data"
    }
   ],
   "source": [
    "sns.boxplot(x=sales.values)"
   ]
  },
  {
   "cell_type": "code",
   "execution_count": 32,
   "metadata": {
    "tags": []
   },
   "outputs": [
    {
     "name": "stdout",
     "output_type": "stream",
     "text": [
      "lower: 53.0  upper: 101.0\n"
     ]
    }
   ],
   "source": [
    "Q1 = bakery.groupby('order_date').size().quantile(q=.25)\n",
    "Q3 = bakery.groupby('order_date').size().quantile(q=.75)\n",
    "LF = Q1 - (1.5 * (Q3-Q1))\n",
    "UF = Q3 + (1.5 * (Q3-Q1))\n",
    "print ('lower:', LF,' upper:',UF)"
   ]
  },
  {
   "cell_type": "markdown",
   "metadata": {},
   "source": [
    "The boxplot confirms the presence of outliers at both ends of the daily sales transactions. To better understand those outliers, the lower and upper fences (whiskers in the plot) are calculated. The lower and upper fences are deemed to be 1.5 times the IQR away from the median value, showing that HoneyBee Sweet Shop’s expected range of daily transactions is between 53 and 101."
   ]
  },
  {
   "cell_type": "markdown",
   "metadata": {},
   "source": [
    "### Insight Recap: What has our analysis revealed?"
   ]
  },
  {
   "cell_type": "markdown",
   "metadata": {},
   "source": [
    "**Analysis of customer loyalty**\n",
    "- there are 33,039 unique customers\n",
    "- the number of times an individual customer visited ranged between 1 and 12 times\n",
    "- 1/4 of those customers only visited once\n",
    "- the median number of visits was 3\n",
    "- IQR is between 2 and 4 visits - accounts for 50% of the customers.\n",
    "- outliers visits existed at 8 and above\n",
    "\n",
    "**Analysis of foot traffic**\n",
    "- sales range from 01/01/2018 through 09/09/2020 - accounts for 1297 unique sales dates\n",
    "- min number of sales per day is 51 and max number is 107\n",
    "- mean number of sales is 77\n",
    "- IQR is between 71 and 83 sales\n",
    "- sales outside of 53 and 101 would be considered rare and unusual"
   ]
  },
  {
   "cell_type": "markdown",
   "metadata": {},
   "source": [
    "### Summarizing the Analysis"
   ]
  },
  {
   "cell_type": "markdown",
   "metadata": {},
   "source": [
    "So what would you report back to HoneyBee Sweet Shop? The trick here is to summarize your insights into a concise and descriptive format. \n",
    "\n",
    "**Report to HoneyBee Sweet Shop**\n",
    "In your first 33 months of business, HoneyBee Sweet Shop attracted just over 33,000 customers. Despite being about to attract new customers to your bakery, custormer loyalty to your brand appears to be relatively low. The data showed that that 50% of our customers visited between 2 and 4 times during those 33 months. Additionally, 25% of your customers only visited the bakery once during this time period. While some customers visited the bakery more frequently, our analysis found that for a customer to visit over 7 times would be a rare and unlikely event. \n",
    "\n",
    "There appears to be a steady flow of customers visiting HoneyBee Sweet Shop each day. Our analysis showed the expected range of daily sales to be between 53 and 101. However, a more realistic daily sales range would be between 71 and 83, which aligns with 50% of the dates within the dataset."
   ]
  },
  {
   "cell_type": "markdown",
   "metadata": {},
   "source": [
    "## Additional Note About Univariant Analysis"
   ]
  },
  {
   "cell_type": "markdown",
   "metadata": {},
   "source": [
    "While the primary analytical techniques used in univariate analysis involve calculating summary statistics, generating frequency distributions, and feature visualizations, several approaches exist in univariant analysis. \n",
    "\n",
    "In the demo above, we saw two different appraoches:\n",
    "1) For the foot traffic analysis, the feature order_date was used.\n",
    "2) For the customer loyalty, we analyzed the results of grouping the feature customer_id.\n",
    "\n",
    "The approach used for analyzing customer loyalty is known as a **Segmented Univariant Analysis***. Segmented univariant analysis summarizes data segments, permitting the detection of patterns within the subsets across the various segments. This can be accomplished by grouping the feature to be analyzed or utilizing other feature(s) in the dataset to segment the data before analysis.\n",
    "\n",
    "Let's say you have a dataset that contains observations of the height at which a ball bounces.\n",
    "\n",
    "| ball_id| ball_color | bounce_height (cm)|\n",
    "|---|---|---|\n",
    "| 1| blue| 4|\n",
    "|2| blue| 4.2|\n",
    "|3|green|4.6|\n",
    "|4| red| 4.1|\n",
    "|5| red| 4.3|\n",
    "|6| green| 5|\n",
    "\n",
    "We could use the feature ball_color to group our dataset and then conduct an univariant analysis of the bounce_height(cm) feature based on ball_color."
   ]
  },
  {
   "cell_type": "code",
   "execution_count": null,
   "metadata": {},
   "outputs": [],
   "source": []
  }
 ],
 "metadata": {
  "kernelspec": {
   "display_name": "py310",
   "language": "python",
   "name": "py310"
  },
  "language_info": {
   "codemirror_mode": {
    "name": "ipython",
    "version": 3
   },
   "file_extension": ".py",
   "mimetype": "text/x-python",
   "name": "python",
   "nbconvert_exporter": "python",
   "pygments_lexer": "ipython3",
   "version": "3.10.13"
  },
  "toc-autonumbering": false,
  "toc-showcode": true,
  "toc-showmarkdowntxt": false
 },
 "nbformat": 4,
 "nbformat_minor": 4
}
