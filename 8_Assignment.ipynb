{
 "cells": [
  {
   "cell_type": "markdown",
   "metadata": {},
   "source": [
    "# Week 8 Lab: Communicating Results"
   ]
  },
  {
   "cell_type": "markdown",
   "metadata": {},
   "source": [
    "<img align=\"right\" style=\"padding-left:50px;\" src=\"figures_wk8/puzzle_pieces.png\" width=200>\n",
    "\n",
    "This week we will focus on Telling A Data Story and combining data analysis techniques to answer a single problem statement. \n",
    "\n",
    "**Dataset::** <br>\n",
    "This week you will be working with a dataset of your choice. Your dataset should include both categorical and continuous features. <br>\n",
    "Note: <u> You MAY NOT reuse any of the dataset demonstrated throughout this course or MSDS600</u>."
   ]
  },
  {
   "cell_type": "markdown",
   "metadata": {},
   "source": [
    "**Assignment Requirements:** <br>\n",
    "For this week's assignment, you will use several techniques to analyze a single problem statement and then communicate the results as a data story.\n",
    "\n",
    "Your data story should be delivered as a PowerPoint(pptx) and include the following:\n",
    "- Either speaker notes <u>**OR**</u> voice over to tell your story. If you choose:\n",
    "    * Speaker notes - your notes must be detailed enough to convey the story you are telling\n",
    "       - Don't make me guess at what you are trying to say!!!\n",
    "       - Suggestion: 100-250 words per slide\n",
    "    * Voice-over - your audio must be clear enough for me to understand what you are saying and detailed enough to tell your story\n",
    "        - Do NOT read to our audience!  Talk to them!\n",
    "- Your slide deck should consist of\n",
    "    * Intro slide\n",
    "    * 7-10 content slides\n",
    "    * Future works slide\n",
    "    * Reference slides as needed\n",
    "- A sample Data Story has been provided for you (TellingADataStory_WomenAndChildrenFirst.pptx)\n",
    "\n",
    "The analysis of your dataset should include:\n",
    "* Develop a scenario to provide an overall understanding of the organization represented by your dataset.\n",
    "* Define a problem statement that you will investigate within your analysis.\n",
    "* Describe your dataset and how it relates to your analysis.\n",
    "* If needed, prepare your dataset for analysis.\n",
    "* Utilize **three different techniques** to investigate your problem statement.\n",
    "    * Make sure you address any prechecks or conditions associated with your techniques\n",
    "    * Summarize the insights and/or results for each technique\n",
    "* Provide an overall conclusion based on your analysis.\n",
    "\n",
    "Presentation Tips:\n",
    "* No code in your presentation\n",
    "* Do not assume that your audience has the same degrees as you\n",
    "* Relay the significance of any findings\n"
   ]
  },
  {
   "cell_type": "markdown",
   "metadata": {},
   "source": [
    "# Deliverables\n",
    "Upload your Data Story (pptx), your analysis (Jupyter notebook) and a copy of your dataset to the corresponding location in WorldClass. \n"
   ]
  },
  {
   "cell_type": "code",
   "execution_count": null,
   "metadata": {},
   "outputs": [],
   "source": []
  }
 ],
 "metadata": {
  "kernelspec": {
   "display_name": "Python 3 (ipykernel)",
   "language": "python",
   "name": "python3"
  },
  "language_info": {
   "codemirror_mode": {
    "name": "ipython",
    "version": 3
   },
   "file_extension": ".py",
   "mimetype": "text/x-python",
   "name": "python",
   "nbconvert_exporter": "python",
   "pygments_lexer": "ipython3",
   "version": "3.12.4"
  }
 },
 "nbformat": 4,
 "nbformat_minor": 4
}
