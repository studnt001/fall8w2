{
 "cells": [
  {
   "cell_type": "code",
   "execution_count": 87,
   "id": "631389c2",
   "metadata": {},
   "outputs": [],
   "source": [
    "#create a virtual environment\n",
    "#conda create --name cook_county python=3.10 -y\n",
    "#conda activate cook_county\n",
    "\n",
    "#install packages\n",
    "#!pip install pandas numpy seaborn matplotlib\n",
    "#%pip install sweetviz\n",
    "\n"
   ]
  },
  {
   "cell_type": "code",
   "execution_count": 88,
   "id": "f3fd7875",
   "metadata": {},
   "outputs": [],
   "source": [
    "import pandas as pd\n",
    "import numpy as np\n",
    "import seaborn as sns\n",
    "import matplotlib.pyplot as plt\n",
    "import sweetviz as sv"
   ]
  },
  {
   "cell_type": "code",
   "execution_count": 89,
   "id": "56f6bb0f",
   "metadata": {},
   "outputs": [
    {
     "name": "stderr",
     "output_type": "stream",
     "text": [
      "C:\\Users\\kkusk\\AppData\\Local\\Temp\\ipykernel_8232\\2389593269.py:1: DtypeWarning: Columns (10,11,14,25) have mixed types. Specify dtype option on import or set low_memory=False.\n",
      "  df = pd.read_csv('data/Sentencing_20241028.csv')\n"
     ]
    }
   ],
   "source": [
    "df = pd.read_csv('data/Sentencing_20241028.csv')"
   ]
  },
  {
   "cell_type": "markdown",
   "id": "0a4b4fcb",
   "metadata": {},
   "source": [
    "First, see which values are in the unit column:"
   ]
  },
  {
   "cell_type": "code",
   "execution_count": 90,
   "id": "3b7e8fe2",
   "metadata": {},
   "outputs": [
    {
     "data": {
      "text/plain": [
       "COMMITMENT_UNIT\n",
       "Year(s)         219237\n",
       "Months           68123\n",
       "Days             11348\n",
       "Term              2374\n",
       "Natural Life       841\n",
       "Dollars             94\n",
       "Hours               47\n",
       "Weeks               24\n",
       "Pounds               5\n",
       "Grams                2\n",
       "Ounces               1\n",
       "Kilos                1\n",
       "Name: count, dtype: int64"
      ]
     },
     "execution_count": 90,
     "metadata": {},
     "output_type": "execute_result"
    }
   ],
   "source": [
    "df['COMMITMENT_UNIT'].value_counts()"
   ]
  },
  {
   "cell_type": "markdown",
   "id": "4eced734",
   "metadata": {},
   "source": [
    "Next, filter the dataframe to only keep the 'years' values:"
   ]
  },
  {
   "cell_type": "code",
   "execution_count": 91,
   "id": "6f8d3f67",
   "metadata": {},
   "outputs": [],
   "source": [
    "years_df = df[df['COMMITMENT_UNIT'] == 'Year(s)'].copy()"
   ]
  },
  {
   "cell_type": "markdown",
   "id": "25bbf58d",
   "metadata": {},
   "source": [
    "Convert the term (now only years) to numeric, with any errors turned into missing values:"
   ]
  },
  {
   "cell_type": "code",
   "execution_count": 92,
   "id": "8c811117",
   "metadata": {},
   "outputs": [],
   "source": [
    "# coerce turns errors into NaN (missing values)\n",
    "years_df['COMMITMENT_TERM'] = pd.to_numeric(years_df['COMMITMENT_TERM'], errors='coerce')"
   ]
  },
  {
   "cell_type": "code",
   "execution_count": 93,
   "id": "923947dd",
   "metadata": {},
   "outputs": [
    {
     "name": "stdout",
     "output_type": "stream",
     "text": [
      "<class 'pandas.core.frame.DataFrame'>\n",
      "Index: 219237 entries, 1 to 303961\n",
      "Data columns (total 41 columns):\n",
      " #   Column                             Non-Null Count   Dtype  \n",
      "---  ------                             --------------   -----  \n",
      " 0   CASE_ID                            219237 non-null  int64  \n",
      " 1   CASE_PARTICIPANT_ID                219237 non-null  int64  \n",
      " 2   RECEIVED_DATE                      219237 non-null  object \n",
      " 3   OFFENSE_CATEGORY                   219237 non-null  object \n",
      " 4   PRIMARY_CHARGE_FLAG                219237 non-null  bool   \n",
      " 5   CHARGE_ID                          219237 non-null  int64  \n",
      " 6   CHARGE_VERSION_ID                  219237 non-null  int64  \n",
      " 7   DISPOSITION_CHARGED_OFFENSE_TITLE  219237 non-null  object \n",
      " 8   CHARGE_COUNT                       219237 non-null  int64  \n",
      " 9   DISPOSITION_DATE                   219237 non-null  object \n",
      " 10  DISPOSITION_CHARGED_CHAPTER        219237 non-null  object \n",
      " 11  DISPOSITION_CHARGED_ACT            214893 non-null  object \n",
      " 12  DISPOSITION_CHARGED_SECTION        214893 non-null  object \n",
      " 13  DISPOSITION_CHARGED_CLASS          219222 non-null  object \n",
      " 14  DISPOSITION_CHARGED_AOIC           219218 non-null  object \n",
      " 15  CHARGE_DISPOSITION                 219237 non-null  object \n",
      " 16  CHARGE_DISPOSITION_REASON          459 non-null     object \n",
      " 17  SENTENCE_JUDGE                     218722 non-null  object \n",
      " 18  SENTENCE_COURT_NAME                218216 non-null  object \n",
      " 19  SENTENCE_COURT_FACILITY            217692 non-null  object \n",
      " 20  SENTENCE_PHASE                     219237 non-null  object \n",
      " 21  SENTENCE_DATE                      219237 non-null  object \n",
      " 22  SENTENCE_TYPE                      219237 non-null  object \n",
      " 23  CURRENT_SENTENCE_FLAG              219237 non-null  bool   \n",
      " 24  COMMITMENT_TYPE                    219237 non-null  object \n",
      " 25  COMMITMENT_TERM                    219234 non-null  float64\n",
      " 26  COMMITMENT_UNIT                    219237 non-null  object \n",
      " 27  LENGTH_OF_CASE_in_Days             206408 non-null  float64\n",
      " 28  AGE_AT_INCIDENT                    215906 non-null  float64\n",
      " 29  RACE                               218401 non-null  object \n",
      " 30  GENDER                             218751 non-null  object \n",
      " 31  INCIDENT_CITY                      202645 non-null  object \n",
      " 32  INCIDENT_BEGIN_DATE                216718 non-null  object \n",
      " 33  INCIDENT_END_DATE                  19062 non-null   object \n",
      " 34  LAW_ENFORCEMENT_AGENCY             219015 non-null  object \n",
      " 35  LAW_ENFORCEMENT_UNIT               62807 non-null   object \n",
      " 36  ARREST_DATE                        214478 non-null  object \n",
      " 37  FELONY_REVIEW_DATE                 160017 non-null  object \n",
      " 38  FELONY_REVIEW_RESULT               160017 non-null  object \n",
      " 39  ARRAIGNMENT_DATE                   206408 non-null  object \n",
      " 40  UPDATED_OFFENSE_CATEGORY           219237 non-null  object \n",
      "dtypes: bool(2), float64(3), int64(5), object(31)\n",
      "memory usage: 67.3+ MB\n"
     ]
    }
   ],
   "source": [
    "years_df.info()"
   ]
  },
  {
   "cell_type": "markdown",
   "id": "9c93259c",
   "metadata": {},
   "source": [
    "An easy way to select columns is to copy-paste the list of columns into a new cell, and delete columns we don't want. Here, we are keeping columns that look like they have data we want to investigate and don't have lots of missing values:"
   ]
  },
  {
   "cell_type": "code",
   "execution_count": 94,
   "id": "b7d2483d",
   "metadata": {},
   "outputs": [
    {
     "data": {
      "text/plain": [
       "Index(['CASE_ID', 'CASE_PARTICIPANT_ID', 'RECEIVED_DATE', 'OFFENSE_CATEGORY',\n",
       "       'PRIMARY_CHARGE_FLAG', 'CHARGE_ID', 'CHARGE_VERSION_ID',\n",
       "       'DISPOSITION_CHARGED_OFFENSE_TITLE', 'CHARGE_COUNT', 'DISPOSITION_DATE',\n",
       "       'DISPOSITION_CHARGED_CHAPTER', 'DISPOSITION_CHARGED_ACT',\n",
       "       'DISPOSITION_CHARGED_SECTION', 'DISPOSITION_CHARGED_CLASS',\n",
       "       'DISPOSITION_CHARGED_AOIC', 'CHARGE_DISPOSITION',\n",
       "       'CHARGE_DISPOSITION_REASON', 'SENTENCE_JUDGE', 'SENTENCE_COURT_NAME',\n",
       "       'SENTENCE_COURT_FACILITY', 'SENTENCE_PHASE', 'SENTENCE_DATE',\n",
       "       'SENTENCE_TYPE', 'CURRENT_SENTENCE_FLAG', 'COMMITMENT_TYPE',\n",
       "       'COMMITMENT_TERM', 'COMMITMENT_UNIT', 'LENGTH_OF_CASE_in_Days',\n",
       "       'AGE_AT_INCIDENT', 'RACE', 'GENDER', 'INCIDENT_CITY',\n",
       "       'INCIDENT_BEGIN_DATE', 'INCIDENT_END_DATE', 'LAW_ENFORCEMENT_AGENCY',\n",
       "       'LAW_ENFORCEMENT_UNIT', 'ARREST_DATE', 'FELONY_REVIEW_DATE',\n",
       "       'FELONY_REVIEW_RESULT', 'ARRAIGNMENT_DATE', 'UPDATED_OFFENSE_CATEGORY'],\n",
       "      dtype='object')"
      ]
     },
     "execution_count": 94,
     "metadata": {},
     "output_type": "execute_result"
    }
   ],
   "source": [
    "years_df.columns"
   ]
  },
  {
   "cell_type": "code",
   "execution_count": 95,
   "id": "44a921a4",
   "metadata": {},
   "outputs": [],
   "source": [
    "# keep only some columns\n",
    "keep_cols = ['RECEIVED_DATE', 'OFFENSE_CATEGORY',\n",
    "       'DISPOSITION_CHARGED_OFFENSE_TITLE', 'CHARGE_COUNT', 'DISPOSITION_DATE', 'CHARGE_DISPOSITION',\n",
    "       'SENTENCE_JUDGE', 'SENTENCE_COURT_NAME',\n",
    "       'SENTENCE_COURT_FACILITY', 'SENTENCE_PHASE', 'SENTENCE_DATE',\n",
    "       'SENTENCE_TYPE', 'COMMITMENT_TYPE',\n",
    "       'COMMITMENT_TERM', 'LENGTH_OF_CASE_in_Days',\n",
    "       'AGE_AT_INCIDENT', 'RACE', 'GENDER', 'INCIDENT_CITY',\n",
    "       'LAW_ENFORCEMENT_AGENCY']\n",
    "keep_df = years_df[keep_cols].copy()"
   ]
  },
  {
   "cell_type": "code",
   "execution_count": 96,
   "id": "39a517e5",
   "metadata": {},
   "outputs": [
    {
     "data": {
      "text/html": [
       "<div>\n",
       "<style scoped>\n",
       "    .dataframe tbody tr th:only-of-type {\n",
       "        vertical-align: middle;\n",
       "    }\n",
       "\n",
       "    .dataframe tbody tr th {\n",
       "        vertical-align: top;\n",
       "    }\n",
       "\n",
       "    .dataframe thead th {\n",
       "        text-align: right;\n",
       "    }\n",
       "</style>\n",
       "<table border=\"1\" class=\"dataframe\">\n",
       "  <thead>\n",
       "    <tr style=\"text-align: right;\">\n",
       "      <th></th>\n",
       "      <th>RECEIVED_DATE</th>\n",
       "      <th>OFFENSE_CATEGORY</th>\n",
       "      <th>DISPOSITION_CHARGED_OFFENSE_TITLE</th>\n",
       "      <th>CHARGE_COUNT</th>\n",
       "      <th>DISPOSITION_DATE</th>\n",
       "      <th>CHARGE_DISPOSITION</th>\n",
       "      <th>SENTENCE_JUDGE</th>\n",
       "      <th>SENTENCE_COURT_NAME</th>\n",
       "      <th>SENTENCE_COURT_FACILITY</th>\n",
       "      <th>SENTENCE_PHASE</th>\n",
       "      <th>SENTENCE_DATE</th>\n",
       "      <th>SENTENCE_TYPE</th>\n",
       "      <th>COMMITMENT_TYPE</th>\n",
       "      <th>COMMITMENT_TERM</th>\n",
       "      <th>LENGTH_OF_CASE_in_Days</th>\n",
       "      <th>AGE_AT_INCIDENT</th>\n",
       "      <th>RACE</th>\n",
       "      <th>GENDER</th>\n",
       "      <th>INCIDENT_CITY</th>\n",
       "      <th>LAW_ENFORCEMENT_AGENCY</th>\n",
       "    </tr>\n",
       "  </thead>\n",
       "  <tbody>\n",
       "    <tr>\n",
       "      <th>1</th>\n",
       "      <td>08/15/1984 12:00:00 AM</td>\n",
       "      <td>PROMIS Conversion</td>\n",
       "      <td>HOME INVASION</td>\n",
       "      <td>14</td>\n",
       "      <td>12/17/2014 12:00:00 AM</td>\n",
       "      <td>Nolle On Remand</td>\n",
       "      <td>John  Mannion</td>\n",
       "      <td>District 6 - Markham</td>\n",
       "      <td>Markham Courthouse</td>\n",
       "      <td>Original Sentencing</td>\n",
       "      <td>06/02/1986 12:00:00 AM</td>\n",
       "      <td>Conversion</td>\n",
       "      <td>Illinois Department of Corrections</td>\n",
       "      <td>30.0</td>\n",
       "      <td>619.0</td>\n",
       "      <td>27.0</td>\n",
       "      <td>Black</td>\n",
       "      <td>Male</td>\n",
       "      <td>NaN</td>\n",
       "      <td>CHICAGO POLICE DEPT</td>\n",
       "    </tr>\n",
       "    <tr>\n",
       "      <th>4</th>\n",
       "      <td>08/15/1984 12:00:00 AM</td>\n",
       "      <td>PROMIS Conversion</td>\n",
       "      <td>HOME INVASION</td>\n",
       "      <td>13</td>\n",
       "      <td>12/17/2014 12:00:00 AM</td>\n",
       "      <td>Plea Of Guilty</td>\n",
       "      <td>Clayton Jay Crane</td>\n",
       "      <td>District 6 - Markham</td>\n",
       "      <td>Markham Courthouse</td>\n",
       "      <td>Amended/Corrected Sentencing</td>\n",
       "      <td>10/16/2014 12:00:00 AM</td>\n",
       "      <td>Prison</td>\n",
       "      <td>Illinois Department of Corrections</td>\n",
       "      <td>30.0</td>\n",
       "      <td>10982.0</td>\n",
       "      <td>27.0</td>\n",
       "      <td>Black</td>\n",
       "      <td>Male</td>\n",
       "      <td>NaN</td>\n",
       "      <td>CHICAGO POLICE DEPT</td>\n",
       "    </tr>\n",
       "    <tr>\n",
       "      <th>5</th>\n",
       "      <td>08/15/1984 12:00:00 AM</td>\n",
       "      <td>PROMIS Conversion</td>\n",
       "      <td>HOME INVASION</td>\n",
       "      <td>13</td>\n",
       "      <td>12/17/2014 12:00:00 AM</td>\n",
       "      <td>Plea Of Guilty</td>\n",
       "      <td>John  Mannion</td>\n",
       "      <td>District 6 - Markham</td>\n",
       "      <td>Markham Courthouse</td>\n",
       "      <td>Original Sentencing</td>\n",
       "      <td>06/02/1986 12:00:00 AM</td>\n",
       "      <td>Conversion</td>\n",
       "      <td>Illinois Department of Corrections</td>\n",
       "      <td>30.0</td>\n",
       "      <td>619.0</td>\n",
       "      <td>27.0</td>\n",
       "      <td>Black</td>\n",
       "      <td>Male</td>\n",
       "      <td>NaN</td>\n",
       "      <td>CHICAGO POLICE DEPT</td>\n",
       "    </tr>\n",
       "    <tr>\n",
       "      <th>6</th>\n",
       "      <td>08/15/1984 12:00:00 AM</td>\n",
       "      <td>PROMIS Conversion</td>\n",
       "      <td>ARMED ROBBERY</td>\n",
       "      <td>15</td>\n",
       "      <td>12/17/2014 12:00:00 AM</td>\n",
       "      <td>Plea Of Guilty</td>\n",
       "      <td>Clayton Jay Crane</td>\n",
       "      <td>District 6 - Markham</td>\n",
       "      <td>Markham Courthouse</td>\n",
       "      <td>Amended/Corrected Sentencing</td>\n",
       "      <td>10/16/2014 12:00:00 AM</td>\n",
       "      <td>Prison</td>\n",
       "      <td>Illinois Department of Corrections</td>\n",
       "      <td>30.0</td>\n",
       "      <td>10982.0</td>\n",
       "      <td>27.0</td>\n",
       "      <td>Black</td>\n",
       "      <td>Male</td>\n",
       "      <td>NaN</td>\n",
       "      <td>CHICAGO POLICE DEPT</td>\n",
       "    </tr>\n",
       "    <tr>\n",
       "      <th>7</th>\n",
       "      <td>08/15/1984 12:00:00 AM</td>\n",
       "      <td>PROMIS Conversion</td>\n",
       "      <td>ARMED ROBBERY</td>\n",
       "      <td>15</td>\n",
       "      <td>12/17/2014 12:00:00 AM</td>\n",
       "      <td>Plea Of Guilty</td>\n",
       "      <td>John  Mannion</td>\n",
       "      <td>District 6 - Markham</td>\n",
       "      <td>Markham Courthouse</td>\n",
       "      <td>Original Sentencing</td>\n",
       "      <td>06/02/1986 12:00:00 AM</td>\n",
       "      <td>Conversion</td>\n",
       "      <td>Illinois Department of Corrections</td>\n",
       "      <td>30.0</td>\n",
       "      <td>619.0</td>\n",
       "      <td>27.0</td>\n",
       "      <td>Black</td>\n",
       "      <td>Male</td>\n",
       "      <td>NaN</td>\n",
       "      <td>CHICAGO POLICE DEPT</td>\n",
       "    </tr>\n",
       "  </tbody>\n",
       "</table>\n",
       "</div>"
      ],
      "text/plain": [
       "            RECEIVED_DATE   OFFENSE_CATEGORY  \\\n",
       "1  08/15/1984 12:00:00 AM  PROMIS Conversion   \n",
       "4  08/15/1984 12:00:00 AM  PROMIS Conversion   \n",
       "5  08/15/1984 12:00:00 AM  PROMIS Conversion   \n",
       "6  08/15/1984 12:00:00 AM  PROMIS Conversion   \n",
       "7  08/15/1984 12:00:00 AM  PROMIS Conversion   \n",
       "\n",
       "  DISPOSITION_CHARGED_OFFENSE_TITLE  CHARGE_COUNT        DISPOSITION_DATE  \\\n",
       "1                     HOME INVASION            14  12/17/2014 12:00:00 AM   \n",
       "4                     HOME INVASION            13  12/17/2014 12:00:00 AM   \n",
       "5                     HOME INVASION            13  12/17/2014 12:00:00 AM   \n",
       "6                     ARMED ROBBERY            15  12/17/2014 12:00:00 AM   \n",
       "7                     ARMED ROBBERY            15  12/17/2014 12:00:00 AM   \n",
       "\n",
       "  CHARGE_DISPOSITION     SENTENCE_JUDGE   SENTENCE_COURT_NAME  \\\n",
       "1    Nolle On Remand      John  Mannion  District 6 - Markham   \n",
       "4     Plea Of Guilty  Clayton Jay Crane  District 6 - Markham   \n",
       "5     Plea Of Guilty      John  Mannion  District 6 - Markham   \n",
       "6     Plea Of Guilty  Clayton Jay Crane  District 6 - Markham   \n",
       "7     Plea Of Guilty      John  Mannion  District 6 - Markham   \n",
       "\n",
       "  SENTENCE_COURT_FACILITY                SENTENCE_PHASE  \\\n",
       "1      Markham Courthouse           Original Sentencing   \n",
       "4      Markham Courthouse  Amended/Corrected Sentencing   \n",
       "5      Markham Courthouse           Original Sentencing   \n",
       "6      Markham Courthouse  Amended/Corrected Sentencing   \n",
       "7      Markham Courthouse           Original Sentencing   \n",
       "\n",
       "            SENTENCE_DATE SENTENCE_TYPE                     COMMITMENT_TYPE  \\\n",
       "1  06/02/1986 12:00:00 AM    Conversion  Illinois Department of Corrections   \n",
       "4  10/16/2014 12:00:00 AM        Prison  Illinois Department of Corrections   \n",
       "5  06/02/1986 12:00:00 AM    Conversion  Illinois Department of Corrections   \n",
       "6  10/16/2014 12:00:00 AM        Prison  Illinois Department of Corrections   \n",
       "7  06/02/1986 12:00:00 AM    Conversion  Illinois Department of Corrections   \n",
       "\n",
       "   COMMITMENT_TERM  LENGTH_OF_CASE_in_Days  AGE_AT_INCIDENT   RACE GENDER  \\\n",
       "1             30.0                   619.0             27.0  Black   Male   \n",
       "4             30.0                 10982.0             27.0  Black   Male   \n",
       "5             30.0                   619.0             27.0  Black   Male   \n",
       "6             30.0                 10982.0             27.0  Black   Male   \n",
       "7             30.0                   619.0             27.0  Black   Male   \n",
       "\n",
       "  INCIDENT_CITY LAW_ENFORCEMENT_AGENCY  \n",
       "1           NaN    CHICAGO POLICE DEPT  \n",
       "4           NaN    CHICAGO POLICE DEPT  \n",
       "5           NaN    CHICAGO POLICE DEPT  \n",
       "6           NaN    CHICAGO POLICE DEPT  \n",
       "7           NaN    CHICAGO POLICE DEPT  "
      ]
     },
     "execution_count": 96,
     "metadata": {},
     "output_type": "execute_result"
    }
   ],
   "source": [
    "keep_df.head()"
   ]
  },
  {
   "cell_type": "markdown",
   "id": "6f6a671e",
   "metadata": {},
   "source": [
    "We convert this column to a datetime type, which allows us to do things like `keep_df['DISPOSITION_DATE'].dt.year` and other datetime methods. We could also use arguments like `parse_datetimes` and `infer_datetime_format` in `read_csv` to do this."
   ]
  },
  {
   "cell_type": "code",
   "execution_count": 97,
   "id": "3cdaa6a2",
   "metadata": {},
   "outputs": [
    {
     "name": "stderr",
     "output_type": "stream",
     "text": [
      "C:\\Users\\kkusk\\AppData\\Local\\Temp\\ipykernel_8232\\2526583906.py:1: UserWarning: Could not infer format, so each element will be parsed individually, falling back to `dateutil`. To ensure parsing is consistent and as-expected, please specify a format.\n",
      "  keep_df['DISPOSITION_DATE'] = pd.to_datetime(keep_df['DISPOSITION_DATE'], errors='coerce')\n"
     ]
    }
   ],
   "source": [
    "keep_df['DISPOSITION_DATE'] = pd.to_datetime(keep_df['DISPOSITION_DATE'], errors='coerce')"
   ]
  },
  {
   "cell_type": "code",
   "execution_count": 98,
   "id": "7ea281f6",
   "metadata": {},
   "outputs": [
    {
     "name": "stdout",
     "output_type": "stream",
     "text": [
      "<class 'pandas.core.frame.DataFrame'>\n",
      "Index: 219237 entries, 1 to 303961\n",
      "Data columns (total 20 columns):\n",
      " #   Column                             Non-Null Count   Dtype         \n",
      "---  ------                             --------------   -----         \n",
      " 0   RECEIVED_DATE                      219237 non-null  object        \n",
      " 1   OFFENSE_CATEGORY                   219237 non-null  object        \n",
      " 2   DISPOSITION_CHARGED_OFFENSE_TITLE  219237 non-null  object        \n",
      " 3   CHARGE_COUNT                       219237 non-null  int64         \n",
      " 4   DISPOSITION_DATE                   219232 non-null  datetime64[ns]\n",
      " 5   CHARGE_DISPOSITION                 219237 non-null  object        \n",
      " 6   SENTENCE_JUDGE                     218722 non-null  object        \n",
      " 7   SENTENCE_COURT_NAME                218216 non-null  object        \n",
      " 8   SENTENCE_COURT_FACILITY            217692 non-null  object        \n",
      " 9   SENTENCE_PHASE                     219237 non-null  object        \n",
      " 10  SENTENCE_DATE                      219237 non-null  object        \n",
      " 11  SENTENCE_TYPE                      219237 non-null  object        \n",
      " 12  COMMITMENT_TYPE                    219237 non-null  object        \n",
      " 13  COMMITMENT_TERM                    219234 non-null  float64       \n",
      " 14  LENGTH_OF_CASE_in_Days             206408 non-null  float64       \n",
      " 15  AGE_AT_INCIDENT                    215906 non-null  float64       \n",
      " 16  RACE                               218401 non-null  object        \n",
      " 17  GENDER                             218751 non-null  object        \n",
      " 18  INCIDENT_CITY                      202645 non-null  object        \n",
      " 19  LAW_ENFORCEMENT_AGENCY             219015 non-null  object        \n",
      "dtypes: datetime64[ns](1), float64(3), int64(1), object(15)\n",
      "memory usage: 35.1+ MB\n"
     ]
    }
   ],
   "source": [
    "keep_df.info()"
   ]
  },
  {
   "cell_type": "code",
   "execution_count": 99,
   "id": "2df17b97",
   "metadata": {},
   "outputs": [
    {
     "data": {
      "text/plain": [
       "(219237, 20)"
      ]
     },
     "execution_count": 99,
     "metadata": {},
     "output_type": "execute_result"
    }
   ],
   "source": [
    "keep_df.shape"
   ]
  },
  {
   "cell_type": "code",
   "execution_count": 100,
   "id": "56361c8c",
   "metadata": {},
   "outputs": [
    {
     "data": {
      "text/plain": [
       "(194312, 20)"
      ]
     },
     "execution_count": 100,
     "metadata": {},
     "output_type": "execute_result"
    }
   ],
   "source": [
    "# drop rows with any missing values - we lost several rows but not too many\n",
    "keep_df.dropna(inplace=True)\n",
    "keep_df.shape"
   ]
  },
  {
   "cell_type": "code",
   "execution_count": 101,
   "id": "912caf98",
   "metadata": {},
   "outputs": [
    {
     "name": "stderr",
     "output_type": "stream",
     "text": [
      "C:\\Users\\kkusk\\AppData\\Local\\Temp\\ipykernel_8232\\725881988.py:1: UserWarning: Could not infer format, so each element will be parsed individually, falling back to `dateutil`. To ensure parsing is consistent and as-expected, please specify a format.\n",
      "  keep_df['SENTENCE_DATE'] = pd.to_datetime(keep_df['SENTENCE_DATE'], errors='coerce')\n"
     ]
    }
   ],
   "source": [
    "keep_df['SENTENCE_DATE'] = pd.to_datetime(keep_df['SENTENCE_DATE'], errors='coerce')"
   ]
  },
  {
   "cell_type": "code",
   "execution_count": 102,
   "id": "613efc70",
   "metadata": {},
   "outputs": [
    {
     "name": "stdout",
     "output_type": "stream",
     "text": [
      "<class 'pandas.core.frame.DataFrame'>\n",
      "Index: 194312 entries, 151 to 303961\n",
      "Data columns (total 20 columns):\n",
      " #   Column                             Non-Null Count   Dtype         \n",
      "---  ------                             --------------   -----         \n",
      " 0   RECEIVED_DATE                      194312 non-null  object        \n",
      " 1   OFFENSE_CATEGORY                   194312 non-null  object        \n",
      " 2   DISPOSITION_CHARGED_OFFENSE_TITLE  194312 non-null  object        \n",
      " 3   CHARGE_COUNT                       194312 non-null  int64         \n",
      " 4   DISPOSITION_DATE                   194312 non-null  datetime64[ns]\n",
      " 5   CHARGE_DISPOSITION                 194312 non-null  object        \n",
      " 6   SENTENCE_JUDGE                     194312 non-null  object        \n",
      " 7   SENTENCE_COURT_NAME                194312 non-null  object        \n",
      " 8   SENTENCE_COURT_FACILITY            194312 non-null  object        \n",
      " 9   SENTENCE_PHASE                     194312 non-null  object        \n",
      " 10  SENTENCE_DATE                      194296 non-null  datetime64[ns]\n",
      " 11  SENTENCE_TYPE                      194312 non-null  object        \n",
      " 12  COMMITMENT_TYPE                    194312 non-null  object        \n",
      " 13  COMMITMENT_TERM                    194312 non-null  float64       \n",
      " 14  LENGTH_OF_CASE_in_Days             194312 non-null  float64       \n",
      " 15  AGE_AT_INCIDENT                    194312 non-null  float64       \n",
      " 16  RACE                               194312 non-null  object        \n",
      " 17  GENDER                             194312 non-null  object        \n",
      " 18  INCIDENT_CITY                      194312 non-null  object        \n",
      " 19  LAW_ENFORCEMENT_AGENCY             194312 non-null  object        \n",
      "dtypes: datetime64[ns](2), float64(3), int64(1), object(14)\n",
      "memory usage: 31.1+ MB\n"
     ]
    }
   ],
   "source": [
    "keep_df.info()"
   ]
  },
  {
   "cell_type": "code",
   "execution_count": 103,
   "id": "9b281793",
   "metadata": {},
   "outputs": [
    {
     "data": {
      "text/plain": [
       "151       2022.0\n",
       "2166      2015.0\n",
       "2222      2013.0\n",
       "2284      2012.0\n",
       "2299      2012.0\n",
       "           ...  \n",
       "303947    2024.0\n",
       "303952    2024.0\n",
       "303954    2024.0\n",
       "303958    2024.0\n",
       "303961    2024.0\n",
       "Name: SENTENCE_DATE, Length: 194312, dtype: float64"
      ]
     },
     "execution_count": 103,
     "metadata": {},
     "output_type": "execute_result"
    }
   ],
   "source": [
    "keep_df['SENTENCE_DATE'].dt.year "
   ]
  },
  {
   "cell_type": "code",
   "execution_count": 104,
   "id": "ef084609",
   "metadata": {},
   "outputs": [
    {
     "name": "stderr",
     "output_type": "stream",
     "text": [
      "<>:1: SyntaxWarning: invalid escape sequence '\\s'\n",
      "<>:1: SyntaxWarning: invalid escape sequence '\\s'\n",
      "C:\\Users\\kkusk\\AppData\\Local\\Temp\\ipykernel_8232\\1936400204.py:1: SyntaxWarning: invalid escape sequence '\\s'\n",
      "  pattern = '[\\sA-Za-z,`]+'\n"
     ]
    },
    {
     "data": {
      "text/html": [
       "<div>\n",
       "<style scoped>\n",
       "    .dataframe tbody tr th:only-of-type {\n",
       "        vertical-align: middle;\n",
       "    }\n",
       "\n",
       "    .dataframe tbody tr th {\n",
       "        vertical-align: top;\n",
       "    }\n",
       "\n",
       "    .dataframe thead th {\n",
       "        text-align: right;\n",
       "    }\n",
       "</style>\n",
       "<table border=\"1\" class=\"dataframe\">\n",
       "  <thead>\n",
       "    <tr style=\"text-align: right;\">\n",
       "      <th></th>\n",
       "      <th>SENTENCE_DATE</th>\n",
       "    </tr>\n",
       "  </thead>\n",
       "  <tbody>\n",
       "    <tr>\n",
       "      <th>151</th>\n",
       "      <td>2022-09-02</td>\n",
       "    </tr>\n",
       "    <tr>\n",
       "      <th>2166</th>\n",
       "      <td>2015-01-28</td>\n",
       "    </tr>\n",
       "    <tr>\n",
       "      <th>2222</th>\n",
       "      <td>2013-12-09</td>\n",
       "    </tr>\n",
       "    <tr>\n",
       "      <th>2284</th>\n",
       "      <td>2012-01-18</td>\n",
       "    </tr>\n",
       "    <tr>\n",
       "      <th>2299</th>\n",
       "      <td>2012-07-11</td>\n",
       "    </tr>\n",
       "    <tr>\n",
       "      <th>...</th>\n",
       "      <td>...</td>\n",
       "    </tr>\n",
       "    <tr>\n",
       "      <th>303947</th>\n",
       "      <td>2024-09-26</td>\n",
       "    </tr>\n",
       "    <tr>\n",
       "      <th>303952</th>\n",
       "      <td>2024-09-30</td>\n",
       "    </tr>\n",
       "    <tr>\n",
       "      <th>303954</th>\n",
       "      <td>2024-10-03</td>\n",
       "    </tr>\n",
       "    <tr>\n",
       "      <th>303958</th>\n",
       "      <td>2024-09-25</td>\n",
       "    </tr>\n",
       "    <tr>\n",
       "      <th>303961</th>\n",
       "      <td>2024-10-02</td>\n",
       "    </tr>\n",
       "  </tbody>\n",
       "</table>\n",
       "<p>194312 rows × 1 columns</p>\n",
       "</div>"
      ],
      "text/plain": [
       "       SENTENCE_DATE\n",
       "151       2022-09-02\n",
       "2166      2015-01-28\n",
       "2222      2013-12-09\n",
       "2284      2012-01-18\n",
       "2299      2012-07-11\n",
       "...              ...\n",
       "303947    2024-09-26\n",
       "303952    2024-09-30\n",
       "303954    2024-10-03\n",
       "303958    2024-09-25\n",
       "303961    2024-10-02\n",
       "\n",
       "[194312 rows x 1 columns]"
      ]
     },
     "execution_count": 104,
     "metadata": {},
     "output_type": "execute_result"
    }
   ],
   "source": [
    "pattern = '[\\sA-Za-z,`]+'\n",
    "keep_df.loc[df['SENTENCE_DATE'].str.contains(pattern, na=False), ['SENTENCE_DATE']]"
   ]
  },
  {
   "cell_type": "code",
   "execution_count": 105,
   "id": "33c1b6f6",
   "metadata": {},
   "outputs": [
    {
     "data": {
      "text/plain": [
       "SENTENCE_DATE\n",
       "2014.0    20290\n",
       "2013.0    19599\n",
       "2015.0    18656\n",
       "2012.0    18000\n",
       "2016.0    17727\n",
       "2017.0    16093\n",
       "2018.0    13838\n",
       "2011.0    13135\n",
       "2019.0    12653\n",
       "2022.0    11320\n",
       "2023.0    11108\n",
       "2021.0     9466\n",
       "2024.0     6968\n",
       "2020.0     5343\n",
       "2010.0       53\n",
       "2026.0        7\n",
       "2051.0        4\n",
       "2029.0        3\n",
       "2005.0        3\n",
       "2212.0        3\n",
       "2109.0        2\n",
       "2032.0        2\n",
       "2027.0        2\n",
       "2025.0        2\n",
       "2028.0        2\n",
       "2108.0        2\n",
       "2218.0        1\n",
       "1930.0        1\n",
       "2216.0        1\n",
       "2119.0        1\n",
       "2219.0        1\n",
       "2048.0        1\n",
       "2000.0        1\n",
       "1931.0        1\n",
       "2006.0        1\n",
       "2113.0        1\n",
       "2002.0        1\n",
       "2038.0        1\n",
       "2031.0        1\n",
       "2203.0        1\n",
       "2112.0        1\n",
       "Name: count, dtype: int64"
      ]
     },
     "execution_count": 105,
     "metadata": {},
     "output_type": "execute_result"
    }
   ],
   "source": [
    "keep_df['SENTENCE_DATE'].dt.year.value_counts() "
   ]
  },
  {
   "cell_type": "code",
   "execution_count": 116,
   "id": "5f90747e",
   "metadata": {},
   "outputs": [],
   "source": [
    "keep_df= keep_df[(keep_df['SENTENCE_DATE'].dt.year >= 2010.0) & (keep_df['SENTENCE_DATE'].dt.year <= 2024.0)]"
   ]
  },
  {
   "cell_type": "code",
   "execution_count": 117,
   "id": "ad052f3d",
   "metadata": {},
   "outputs": [],
   "source": [
    "keep_df['SENTENCE_year']=keep_df['SENTENCE_DATE'].dt.year"
   ]
  },
  {
   "cell_type": "code",
   "execution_count": 108,
   "id": "b3ee29a0",
   "metadata": {},
   "outputs": [
    {
     "name": "stdout",
     "output_type": "stream",
     "text": [
      "151       2022\n",
      "2166      2015\n",
      "2222      2013\n",
      "2284      2012\n",
      "2299      2012\n",
      "          ... \n",
      "303947    2024\n",
      "303952    2024\n",
      "303954    2024\n",
      "303958    2024\n",
      "303961    2024\n",
      "Name: SENTENCE_year, Length: 194251, dtype: int32\n"
     ]
    }
   ],
   "source": [
    "print(keep_df['SENTENCE_year'])"
   ]
  },
  {
   "cell_type": "code",
   "execution_count": 118,
   "id": "19ce6ccf",
   "metadata": {},
   "outputs": [
    {
     "data": {
      "image/png": "[encoded data removed]",
      "text/plain": [
       "<Figure size 1000x800 with 1 Axes>"
      ]
     },
     "metadata": {},
     "output_type": "display_data"
    }
   ],
   "source": [
    "#Sentences by Year\n",
    "plt.figure(figsize=(10, 8)) \n",
    "sns.countplot(data=keep_df, x='SENTENCE_year')\n",
    "plt.xticks(rotation=45)\n",
    "plt.title('Sentences by Year')\n",
    "plt.tight_layout()\n",
    "plt.show() "
   ]
  },
  {
   "cell_type": "code",
   "execution_count": 119,
   "id": "7039721c",
   "metadata": {},
   "outputs": [
    {
     "data": {
      "text/plain": [
       "RACE\n",
       "Black                           135526\n",
       "Hispanic                         32799\n",
       "White                            23235\n",
       "Asian                             1088\n",
       "Unknown                            285\n",
       "American Indian                     74\n",
       "Biracial                            22\n",
       "Middle Eastern/North African        11\n",
       "Name: count, dtype: int64"
      ]
     },
     "execution_count": 119,
     "metadata": {},
     "output_type": "execute_result"
    }
   ],
   "source": [
    "keep_df['RACE'].value_counts()"
   ]
  },
  {
   "cell_type": "code",
   "execution_count": 120,
   "id": "0820112e",
   "metadata": {},
   "outputs": [],
   "source": [
    "#collapse race categories\n",
    "race_mapping = {\n",
    "    'ASIAN': 'Asian',\n",
    "    'White [Hispanic or Latino]': 'Hispanic',\n",
    "    'HISPANIC': 'Hispanic',\n",
    "    'WHITE': 'White',\n",
    "    'BLACK': 'Black'\n",
    "}\n",
    "\n",
    "keep_df['RACE'] = keep_df['RACE'].replace(race_mapping)\n"
   ]
  },
  {
   "cell_type": "code",
   "execution_count": 121,
   "id": "6c46591e",
   "metadata": {},
   "outputs": [],
   "source": [
    "keep_df = keep_df[keep_df['RACE'] != \"White/Black [Hispanic or Latino]\"]"
   ]
  },
  {
   "cell_type": "code",
   "execution_count": 122,
   "id": "a0129dd6",
   "metadata": {},
   "outputs": [
    {
     "data": {
      "text/plain": [
       "RACE\n",
       "Black                           135526\n",
       "Hispanic                         32799\n",
       "White                            23235\n",
       "Asian                             1088\n",
       "Unknown                            285\n",
       "American Indian                     74\n",
       "Biracial                            22\n",
       "Middle Eastern/North African        11\n",
       "Name: count, dtype: int64"
      ]
     },
     "execution_count": 122,
     "metadata": {},
     "output_type": "execute_result"
    }
   ],
   "source": [
    "keep_df['RACE'].value_counts()"
   ]
  },
  {
   "cell_type": "code",
   "execution_count": 123,
   "id": "00e53145",
   "metadata": {},
   "outputs": [
    {
     "data": {
      "text/plain": [
       "<Axes: xlabel='count', ylabel='RACE'>"
      ]
     },
     "execution_count": 123,
     "metadata": {},
     "output_type": "execute_result"
    },
    {
     "data": {
      "image/png": "[encoded data removed]",
      "text/plain": [
       "<Figure size 640x480 with 1 Axes>"
      ]
     },
     "metadata": {},
     "output_type": "display_data"
    }
   ],
   "source": [
    "import seaborn as sns\n",
    "sns.countplot(data=keep_df, y='RACE', order=keep_df['RACE'].value_counts().index)"
   ]
  },
  {
   "cell_type": "code",
   "execution_count": null,
   "id": "0a8241c8",
   "metadata": {},
   "outputs": [
    {
     "data": {
      "application/vnd.jupyter.widget-view+json": {
       "model_id": "490849948c3247cdba792c8adbb17cde",
       "version_major": 2,
       "version_minor": 0
      },
      "text/plain": [
       "                                             |          | [  0%]   00:00 -> (? left)"
      ]
     },
     "metadata": {},
     "output_type": "display_data"
    }
   ],
   "source": [
    "# save the auto-EDA report as sentencing_eda.html\n",
    "report = sv.analyze(keep_df)\n",
    "report.show_html('sentecing_sweetviz.html')\n"
   ]
  },
  {
   "cell_type": "code",
   "execution_count": null,
   "id": "5e26339b",
   "metadata": {},
   "outputs": [],
   "source": []
  }
 ],
 "metadata": {
  "kernelspec": {
   "display_name": "msds",
   "language": "python",
   "name": "python3"
  },
  "language_info": {
   "codemirror_mode": {
    "name": "ipython",
    "version": 3
   },
   "file_extension": ".py",
   "mimetype": "text/x-python",
   "name": "python",
   "nbconvert_exporter": "python",
   "pygments_lexer": "ipython3",
   "version": "3.12.5"
  }
 },
 "nbformat": 4,
 "nbformat_minor": 5
}
