{
 "cells": [
  {
   "cell_type": "markdown",
   "metadata": {},
   "source": [
    "# Week 6 Lab: Unsupervised Learning"
   ]
  },
  {
   "cell_type": "markdown",
   "metadata": {},
   "source": [
    "<img align=\"right\" style=\"padding-right:10px;\" src=\"figures_wk6/kmeans.png\" width=300><br>\n",
    "\n",
    "This week's assignment will focus completeing a K-Means analysis.\n",
    "\n",
    "## Our Dataset: \n",
    "**Dataset:** wine_fraud.csv(Provided in folder assign_wk6)\n",
    "\n",
    "Remember to take a look at the wine.names files for a better understanding of the dataset. You can also read more about the dataset [here](https://archive.ics.uci.edu/ml/datasets/wine).\n"
   ]
  },
  {
   "cell_type": "markdown",
   "metadata": {},
   "source": [
    "## Unsupervised Learning\n",
    "\n",
    "**Objective:** \n",
    "   - Use K-Means for this analysis: State and defend all your assumptions about the dataset. Defend yourself!!!\n",
    "       * Make sure you cleanup your data, including the readability of your dataset\n",
    "       * EDA!!!  Explore your data!\n",
    "       * Categorical vs numeric columns in your dataset\n",
    "       * Would normalizing your dataset help? \n",
    "   - Cluster the wines to see if there are some natural groupings\n",
    "   - Use PCA to plot the clusters\n",
    "   - Discover any insights from this analysis? (include numbers/graphs corresponding to your reasoning)\n",
    "       * Summarize your findings.\n",
    "       * What does the PCA plot tell you about your clustering?\n"
   ]
  },
  {
   "cell_type": "markdown",
   "metadata": {},
   "source": [
    "### Deliverables:\n",
    "\n",
    "Upload your notebook's .ipynb file (This assignment can be done in one or two notebooks. The choice it up to you!) \n",
    "   \n",
    "**Important:** Make sure your provide complete and thorough explanations for all of your analysis. You need to defend your thought processes and reasoning."
   ]
  },
  {
   "cell_type": "code",
   "execution_count": null,
   "metadata": {},
   "outputs": [],
   "source": []
  }
 ],
 "metadata": {
  "kernelspec": {
   "display_name": "Python 3 (ipykernel)",
   "language": "python",
   "name": "python3"
  },
  "language_info": {
   "codemirror_mode": {
    "name": "ipython",
    "version": 3
   },
   "file_extension": ".py",
   "mimetype": "text/x-python",
   "name": "python",
   "nbconvert_exporter": "python",
   "pygments_lexer": "ipython3",
   "version": "3.11.4"
  }
 },
 "nbformat": 4,
 "nbformat_minor": 4
}
