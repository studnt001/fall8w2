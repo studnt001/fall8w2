{
 "cells": [
  {
   "cell_type": "markdown",
   "metadata": {},
   "source": [
    "\n",
    "# Week 2 Assignment: Deriving Insight via Descriptive Statistics"
   ]
  },
  {
   "cell_type": "markdown",
   "metadata": {},
   "source": [
    "<img align=\"right\" style=\"padding-left:50px;\" src=\"figures_wk2/descriptive_stats.png\" width=350>\n",
    "\n",
    "## Assignment Requirements\n",
    "\n",
    "**Dataset Name:** wages.csv (located in the assing_wk2 folder)<br>\n",
    "This data contains demographic and wage information for a generic company.\n",
    "\n",
    "**Assignment Requirements:** <br>\n",
    "As demonstrated in the <u>Demo: Analyzing a Dataset Through Descriptive Statistics</u> section of the lecture notebook, you will be providing an analysis for the wages.csv dataset.\n",
    "\n",
    "For your analysis, you will need to:\n",
    "1) Inspect the wages.csv dataset (outside of your notebook) and provide a detailed description of the dataset.\n",
    "    - Include the variable's name, description and data type for each variable in the dataset.\n",
    "2) Create a fictitious business that fits the wages.csv dataset.\n",
    "3) Develop a problem statement and 5 analytical questions to be investigated during your analysis. \n",
    "    - For this exercise, you are limited to univariant analysis.\n",
    "    - At least 3 of your analytical questions should require Segmented Univariant Analysis.\n",
    "4) Utilize descriptive statistics to analyze each of your analytical questions.\n",
    "5) Recap of all your insights.\n",
    "6) Summarize your findings for our fictitious business.\n"
   ]
  },
  {
   "cell_type": "markdown",
   "metadata": {},
   "source": [
    "## Deliverables\n",
    "Upload your Jupyter Notebook to the corresponding location in WorldClass. \n",
    "\n",
    "**Note::** Make sure you have <u>clearly indicated</u> each assignment requirement within your notebook. Also, I <i>highly encourage</i> you to use markdown text to create a notebook that integrates your analysis within your code. \n",
    "\n",
    "**Important:** This assignment focuses on the insights you can garner for your data. Therefore, the narrative within your notebook will count for 50% of your total grade on this assignment."
   ]
  },
  {
   "cell_type": "code",
   "execution_count": null,
   "metadata": {},
   "outputs": [],
   "source": []
  }
 ],
 "metadata": {
  "kernelspec": {
   "display_name": "Python 3 (ipykernel)",
   "language": "python",
   "name": "python3"
  },
  "language_info": {
   "codemirror_mode": {
    "name": "ipython",
    "version": 3
   },
   "file_extension": ".py",
   "mimetype": "text/x-python",
   "name": "python",
   "nbconvert_exporter": "python",
   "pygments_lexer": "ipython3",
   "version": "3.11.4"
  }
 },
 "nbformat": 4,
 "nbformat_minor": 4
}
